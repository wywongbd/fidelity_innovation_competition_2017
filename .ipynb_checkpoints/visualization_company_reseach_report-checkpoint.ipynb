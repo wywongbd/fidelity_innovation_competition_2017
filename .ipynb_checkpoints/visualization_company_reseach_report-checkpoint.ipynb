{
 "cells": [
  {
   "cell_type": "markdown",
   "metadata": {},
   "source": [
    "# Visualization of CNN to Correlate Company Reseach Report with Stock Price"
   ]
  },
  {
   "cell_type": "markdown",
   "metadata": {},
   "source": [
    "# Importing all dependencies"
   ]
  },
  {
   "cell_type": "code",
   "execution_count": 1,
   "metadata": {},
   "outputs": [
    {
     "name": "stderr",
     "output_type": "stream",
     "text": [
      "Using TensorFlow backend.\n"
     ]
    }
   ],
   "source": [
    "import matplotlib.pyplot as plt\n",
    "from IPython.display import SVG\n",
    "from keras.utils.vis_utils import model_to_dot\n",
    "\n",
    "from visualizations import load_trained_model, show_net_weights\n",
    "\n",
    "# Set default size of plots\n",
    "%matplotlib inline\n",
    "plt.rcParams['figure.figsize'] = (10.0, 8.0)\n",
    "plt.rcParams['image.interpolation'] = 'nearest'\n",
    "plt.rcParams['image.cmap'] = 'gray'\n",
    "\n",
    "# For auto-reloading external modules\n",
    "# See http://stackoverflow.com/questions/1907993/autoreload-of-modules-in-ipython\n",
    "%load_ext autoreload\n",
    "%autoreload 2"
   ]
  },
  {
   "cell_type": "markdown",
   "metadata": {},
   "source": [
    "# Load model"
   ]
  },
  {
   "cell_type": "code",
   "execution_count": 2,
   "metadata": {
    "collapsed": true
   },
   "outputs": [],
   "source": [
    "# Load model\n",
    "model = load_trained_model('best_model.h5')"
   ]
  },
  {
   "cell_type": "markdown",
   "metadata": {},
   "source": [
    "# Architecture of CNN\n",
    "As shown in figure below, the CNN contains 4 layers with trainable weights, the first two are convolutional layers while the   third   and   fourth   are   fully   connected   and   softmax   layers   respectively.\n",
    "\n",
    "The first convolutional layer filters the 386×15×15 input matrix with 8 kernels of size 2×2×1 and a stride of 1. Its output is filtered by the second convolutional layer in the same way. The kernels of the second convolutional layer are connected to all kernel maps in the first layer, and both convolutional layers are followed by a 2×2 max pooling layer. The output of the second convolutional layer is then flattened into a 1D vector, fed into a fully connected layer with 4 neurons, and finally passed into the softmax layer producing a distribution over the 3 class labels. ReLU non-linearity"
   ]
  },
  {
   "cell_type": "code",
   "execution_count": 3,
   "metadata": {},
   "outputs": [
    {
     "data": {
      "image/svg+xml": [
       "<svg height=\"994pt\" viewBox=\"0.00 0.00 273.98 994.00\" width=\"274pt\" xmlns=\"http://www.w3.org/2000/svg\" xmlns:xlink=\"http://www.w3.org/1999/xlink\">\n",
       "<g class=\"graph\" id=\"graph0\" transform=\"scale(1 1) rotate(0) translate(4 990)\">\n",
       "<title>G</title>\n",
       "<polygon fill=\"#ffffff\" points=\"-4,4 -4,-990 269.9766,-990 269.9766,4 -4,4\" stroke=\"transparent\"/>\n",
       "<!-- 4594317520 -->\n",
       "<g class=\"node\" id=\"node1\">\n",
       "<title>4594317520</title>\n",
       "<polygon fill=\"none\" points=\"44.7002,-949.5 44.7002,-985.5 221.2764,-985.5 221.2764,-949.5 44.7002,-949.5\" stroke=\"#000000\"/>\n",
       "<text fill=\"#000000\" font-family=\"Times,serif\" font-size=\"14.00\" text-anchor=\"middle\" x=\"132.9883\" y=\"-963.3\">conv2d_1_input: InputLayer</text>\n",
       "</g>\n",
       "<!-- 4594317464 -->\n",
       "<g class=\"node\" id=\"node2\">\n",
       "<title>4594317464</title>\n",
       "<polygon fill=\"none\" points=\"69.9624,-876.5 69.9624,-912.5 196.0142,-912.5 196.0142,-876.5 69.9624,-876.5\" stroke=\"#000000\"/>\n",
       "<text fill=\"#000000\" font-family=\"Times,serif\" font-size=\"14.00\" text-anchor=\"middle\" x=\"132.9883\" y=\"-890.3\">conv2d_1: Conv2D</text>\n",
       "</g>\n",
       "<!-- 4594317520&#45;&gt;4594317464 -->\n",
       "<g class=\"edge\" id=\"edge1\">\n",
       "<title>4594317520-&gt;4594317464</title>\n",
       "<path d=\"M132.9883,-949.4551C132.9883,-941.3828 132.9883,-931.6764 132.9883,-922.6817\" fill=\"none\" stroke=\"#000000\"/>\n",
       "<polygon fill=\"#000000\" points=\"136.4884,-922.5903 132.9883,-912.5904 129.4884,-922.5904 136.4884,-922.5903\" stroke=\"#000000\"/>\n",
       "</g>\n",
       "<!-- 4594591280 -->\n",
       "<g class=\"node\" id=\"node3\">\n",
       "<title>4594591280</title>\n",
       "<polygon fill=\"none\" points=\"27.1831,-803.5 27.1831,-839.5 238.7935,-839.5 238.7935,-803.5 27.1831,-803.5\" stroke=\"#000000\"/>\n",
       "<text fill=\"#000000\" font-family=\"Times,serif\" font-size=\"14.00\" text-anchor=\"middle\" x=\"132.9883\" y=\"-817.3\">max_pooling2d_1: MaxPooling2D</text>\n",
       "</g>\n",
       "<!-- 4594317464&#45;&gt;4594591280 -->\n",
       "<g class=\"edge\" id=\"edge2\">\n",
       "<title>4594317464-&gt;4594591280</title>\n",
       "<path d=\"M132.9883,-876.4551C132.9883,-868.3828 132.9883,-858.6764 132.9883,-849.6817\" fill=\"none\" stroke=\"#000000\"/>\n",
       "<polygon fill=\"#000000\" points=\"136.4884,-849.5903 132.9883,-839.5904 129.4884,-849.5904 136.4884,-849.5903\" stroke=\"#000000\"/>\n",
       "</g>\n",
       "<!-- 4594318696 -->\n",
       "<g class=\"node\" id=\"node4\">\n",
       "<title>4594318696</title>\n",
       "<polygon fill=\"none\" points=\"0,-730.5 0,-766.5 265.9766,-766.5 265.9766,-730.5 0,-730.5\" stroke=\"#000000\"/>\n",
       "<text fill=\"#000000\" font-family=\"Times,serif\" font-size=\"14.00\" text-anchor=\"middle\" x=\"132.9883\" y=\"-744.3\">batch_normalization_1: BatchNormalization</text>\n",
       "</g>\n",
       "<!-- 4594591280&#45;&gt;4594318696 -->\n",
       "<g class=\"edge\" id=\"edge3\">\n",
       "<title>4594591280-&gt;4594318696</title>\n",
       "<path d=\"M132.9883,-803.4551C132.9883,-795.3828 132.9883,-785.6764 132.9883,-776.6817\" fill=\"none\" stroke=\"#000000\"/>\n",
       "<polygon fill=\"#000000\" points=\"136.4884,-776.5903 132.9883,-766.5904 129.4884,-776.5904 136.4884,-776.5903\" stroke=\"#000000\"/>\n",
       "</g>\n",
       "<!-- 4594318416 -->\n",
       "<g class=\"node\" id=\"node5\">\n",
       "<title>4594318416</title>\n",
       "<polygon fill=\"none\" points=\"69.1865,-657.5 69.1865,-693.5 196.79,-693.5 196.79,-657.5 69.1865,-657.5\" stroke=\"#000000\"/>\n",
       "<text fill=\"#000000\" font-family=\"Times,serif\" font-size=\"14.00\" text-anchor=\"middle\" x=\"132.9883\" y=\"-671.3\">dropout_1: Dropout</text>\n",
       "</g>\n",
       "<!-- 4594318696&#45;&gt;4594318416 -->\n",
       "<g class=\"edge\" id=\"edge4\">\n",
       "<title>4594318696-&gt;4594318416</title>\n",
       "<path d=\"M132.9883,-730.4551C132.9883,-722.3828 132.9883,-712.6764 132.9883,-703.6817\" fill=\"none\" stroke=\"#000000\"/>\n",
       "<polygon fill=\"#000000\" points=\"136.4884,-703.5903 132.9883,-693.5904 129.4884,-703.5904 136.4884,-703.5903\" stroke=\"#000000\"/>\n",
       "</g>\n",
       "<!-- 4594805504 -->\n",
       "<g class=\"node\" id=\"node6\">\n",
       "<title>4594805504</title>\n",
       "<polygon fill=\"none\" points=\"69.9624,-584.5 69.9624,-620.5 196.0142,-620.5 196.0142,-584.5 69.9624,-584.5\" stroke=\"#000000\"/>\n",
       "<text fill=\"#000000\" font-family=\"Times,serif\" font-size=\"14.00\" text-anchor=\"middle\" x=\"132.9883\" y=\"-598.3\">conv2d_2: Conv2D</text>\n",
       "</g>\n",
       "<!-- 4594318416&#45;&gt;4594805504 -->\n",
       "<g class=\"edge\" id=\"edge5\">\n",
       "<title>4594318416-&gt;4594805504</title>\n",
       "<path d=\"M132.9883,-657.4551C132.9883,-649.3828 132.9883,-639.6764 132.9883,-630.6817\" fill=\"none\" stroke=\"#000000\"/>\n",
       "<polygon fill=\"#000000\" points=\"136.4884,-630.5903 132.9883,-620.5904 129.4884,-630.5904 136.4884,-630.5903\" stroke=\"#000000\"/>\n",
       "</g>\n",
       "<!-- 4594652664 -->\n",
       "<g class=\"node\" id=\"node7\">\n",
       "<title>4594652664</title>\n",
       "<polygon fill=\"none\" points=\"27.1831,-511.5 27.1831,-547.5 238.7935,-547.5 238.7935,-511.5 27.1831,-511.5\" stroke=\"#000000\"/>\n",
       "<text fill=\"#000000\" font-family=\"Times,serif\" font-size=\"14.00\" text-anchor=\"middle\" x=\"132.9883\" y=\"-525.3\">max_pooling2d_2: MaxPooling2D</text>\n",
       "</g>\n",
       "<!-- 4594805504&#45;&gt;4594652664 -->\n",
       "<g class=\"edge\" id=\"edge6\">\n",
       "<title>4594805504-&gt;4594652664</title>\n",
       "<path d=\"M132.9883,-584.4551C132.9883,-576.3828 132.9883,-566.6764 132.9883,-557.6817\" fill=\"none\" stroke=\"#000000\"/>\n",
       "<polygon fill=\"#000000\" points=\"136.4884,-557.5903 132.9883,-547.5904 129.4884,-557.5904 136.4884,-557.5903\" stroke=\"#000000\"/>\n",
       "</g>\n",
       "<!-- 4595562200 -->\n",
       "<g class=\"node\" id=\"node8\">\n",
       "<title>4595562200</title>\n",
       "<polygon fill=\"none\" points=\"0,-438.5 0,-474.5 265.9766,-474.5 265.9766,-438.5 0,-438.5\" stroke=\"#000000\"/>\n",
       "<text fill=\"#000000\" font-family=\"Times,serif\" font-size=\"14.00\" text-anchor=\"middle\" x=\"132.9883\" y=\"-452.3\">batch_normalization_2: BatchNormalization</text>\n",
       "</g>\n",
       "<!-- 4594652664&#45;&gt;4595562200 -->\n",
       "<g class=\"edge\" id=\"edge7\">\n",
       "<title>4594652664-&gt;4595562200</title>\n",
       "<path d=\"M132.9883,-511.4551C132.9883,-503.3828 132.9883,-493.6764 132.9883,-484.6817\" fill=\"none\" stroke=\"#000000\"/>\n",
       "<polygon fill=\"#000000\" points=\"136.4884,-484.5903 132.9883,-474.5904 129.4884,-484.5904 136.4884,-484.5903\" stroke=\"#000000\"/>\n",
       "</g>\n",
       "<!-- 4595562088 -->\n",
       "<g class=\"node\" id=\"node9\">\n",
       "<title>4595562088</title>\n",
       "<polygon fill=\"none\" points=\"69.1865,-365.5 69.1865,-401.5 196.79,-401.5 196.79,-365.5 69.1865,-365.5\" stroke=\"#000000\"/>\n",
       "<text fill=\"#000000\" font-family=\"Times,serif\" font-size=\"14.00\" text-anchor=\"middle\" x=\"132.9883\" y=\"-379.3\">dropout_2: Dropout</text>\n",
       "</g>\n",
       "<!-- 4595562200&#45;&gt;4595562088 -->\n",
       "<g class=\"edge\" id=\"edge8\">\n",
       "<title>4595562200-&gt;4595562088</title>\n",
       "<path d=\"M132.9883,-438.4551C132.9883,-430.3828 132.9883,-420.6764 132.9883,-411.6817\" fill=\"none\" stroke=\"#000000\"/>\n",
       "<polygon fill=\"#000000\" points=\"136.4884,-411.5903 132.9883,-401.5904 129.4884,-411.5904 136.4884,-411.5903\" stroke=\"#000000\"/>\n",
       "</g>\n",
       "<!-- 4595399984 -->\n",
       "<g class=\"node\" id=\"node10\">\n",
       "<title>4595399984</title>\n",
       "<polygon fill=\"none\" points=\"77.3555,-292.5 77.3555,-328.5 188.6211,-328.5 188.6211,-292.5 77.3555,-292.5\" stroke=\"#000000\"/>\n",
       "<text fill=\"#000000\" font-family=\"Times,serif\" font-size=\"14.00\" text-anchor=\"middle\" x=\"132.9883\" y=\"-306.3\">flatten_1: Flatten</text>\n",
       "</g>\n",
       "<!-- 4595562088&#45;&gt;4595399984 -->\n",
       "<g class=\"edge\" id=\"edge9\">\n",
       "<title>4595562088-&gt;4595399984</title>\n",
       "<path d=\"M132.9883,-365.4551C132.9883,-357.3828 132.9883,-347.6764 132.9883,-338.6817\" fill=\"none\" stroke=\"#000000\"/>\n",
       "<polygon fill=\"#000000\" points=\"136.4884,-338.5903 132.9883,-328.5904 129.4884,-338.5904 136.4884,-338.5903\" stroke=\"#000000\"/>\n",
       "</g>\n",
       "<!-- 4595702752 -->\n",
       "<g class=\"node\" id=\"node11\">\n",
       "<title>4595702752</title>\n",
       "<polygon fill=\"none\" points=\"80.8623,-219.5 80.8623,-255.5 185.1143,-255.5 185.1143,-219.5 80.8623,-219.5\" stroke=\"#000000\"/>\n",
       "<text fill=\"#000000\" font-family=\"Times,serif\" font-size=\"14.00\" text-anchor=\"middle\" x=\"132.9883\" y=\"-233.3\">dense_1: Dense</text>\n",
       "</g>\n",
       "<!-- 4595399984&#45;&gt;4595702752 -->\n",
       "<g class=\"edge\" id=\"edge10\">\n",
       "<title>4595399984-&gt;4595702752</title>\n",
       "<path d=\"M132.9883,-292.4551C132.9883,-284.3828 132.9883,-274.6764 132.9883,-265.6817\" fill=\"none\" stroke=\"#000000\"/>\n",
       "<polygon fill=\"#000000\" points=\"136.4884,-265.5903 132.9883,-255.5904 129.4884,-265.5904 136.4884,-265.5903\" stroke=\"#000000\"/>\n",
       "</g>\n",
       "<!-- 4596345208 -->\n",
       "<g class=\"node\" id=\"node12\">\n",
       "<title>4596345208</title>\n",
       "<polygon fill=\"none\" points=\"0,-146.5 0,-182.5 265.9766,-182.5 265.9766,-146.5 0,-146.5\" stroke=\"#000000\"/>\n",
       "<text fill=\"#000000\" font-family=\"Times,serif\" font-size=\"14.00\" text-anchor=\"middle\" x=\"132.9883\" y=\"-160.3\">batch_normalization_3: BatchNormalization</text>\n",
       "</g>\n",
       "<!-- 4595702752&#45;&gt;4596345208 -->\n",
       "<g class=\"edge\" id=\"edge11\">\n",
       "<title>4595702752-&gt;4596345208</title>\n",
       "<path d=\"M132.9883,-219.4551C132.9883,-211.3828 132.9883,-201.6764 132.9883,-192.6817\" fill=\"none\" stroke=\"#000000\"/>\n",
       "<polygon fill=\"#000000\" points=\"136.4884,-192.5903 132.9883,-182.5904 129.4884,-192.5904 136.4884,-192.5903\" stroke=\"#000000\"/>\n",
       "</g>\n",
       "<!-- 4596402664 -->\n",
       "<g class=\"node\" id=\"node13\">\n",
       "<title>4596402664</title>\n",
       "<polygon fill=\"none\" points=\"69.1865,-73.5 69.1865,-109.5 196.79,-109.5 196.79,-73.5 69.1865,-73.5\" stroke=\"#000000\"/>\n",
       "<text fill=\"#000000\" font-family=\"Times,serif\" font-size=\"14.00\" text-anchor=\"middle\" x=\"132.9883\" y=\"-87.3\">dropout_3: Dropout</text>\n",
       "</g>\n",
       "<!-- 4596345208&#45;&gt;4596402664 -->\n",
       "<g class=\"edge\" id=\"edge12\">\n",
       "<title>4596345208-&gt;4596402664</title>\n",
       "<path d=\"M132.9883,-146.4551C132.9883,-138.3828 132.9883,-128.6764 132.9883,-119.6817\" fill=\"none\" stroke=\"#000000\"/>\n",
       "<polygon fill=\"#000000\" points=\"136.4884,-119.5903 132.9883,-109.5904 129.4884,-119.5904 136.4884,-119.5903\" stroke=\"#000000\"/>\n",
       "</g>\n",
       "<!-- 4596506296 -->\n",
       "<g class=\"node\" id=\"node14\">\n",
       "<title>4596506296</title>\n",
       "<polygon fill=\"none\" points=\"80.8623,-.5 80.8623,-36.5 185.1143,-36.5 185.1143,-.5 80.8623,-.5\" stroke=\"#000000\"/>\n",
       "<text fill=\"#000000\" font-family=\"Times,serif\" font-size=\"14.00\" text-anchor=\"middle\" x=\"132.9883\" y=\"-14.3\">dense_2: Dense</text>\n",
       "</g>\n",
       "<!-- 4596402664&#45;&gt;4596506296 -->\n",
       "<g class=\"edge\" id=\"edge13\">\n",
       "<title>4596402664-&gt;4596506296</title>\n",
       "<path d=\"M132.9883,-73.4551C132.9883,-65.3828 132.9883,-55.6764 132.9883,-46.6817\" fill=\"none\" stroke=\"#000000\"/>\n",
       "<polygon fill=\"#000000\" points=\"136.4884,-46.5903 132.9883,-36.5904 129.4884,-46.5904 136.4884,-46.5903\" stroke=\"#000000\"/>\n",
       "</g>\n",
       "</g>\n",
       "</svg>"
      ],
      "text/plain": [
       "<IPython.core.display.SVG object>"
      ]
     },
     "execution_count": 3,
     "metadata": {},
     "output_type": "execute_result"
    }
   ],
   "source": [
    "# Display architecture of current model\n",
    "SVG(model_to_dot(model).create(prog='dot', format='svg'))"
   ]
  },
  {
   "cell_type": "code",
   "execution_count": 4,
   "metadata": {},
   "outputs": [
    {
     "name": "stdout",
     "output_type": "stream",
     "text": [
      "_________________________________________________________________\n",
      "Layer (type)                 Output Shape              Param #   \n",
      "=================================================================\n",
      "conv2d_1 (Conv2D)            (None, 14, 4, 8)          40        \n",
      "_________________________________________________________________\n",
      "max_pooling2d_1 (MaxPooling2 (None, 13, 3, 8)          0         \n",
      "_________________________________________________________________\n",
      "batch_normalization_1 (Batch (None, 13, 3, 8)          32        \n",
      "_________________________________________________________________\n",
      "dropout_1 (Dropout)          (None, 13, 3, 8)          0         \n",
      "_________________________________________________________________\n",
      "conv2d_2 (Conv2D)            (None, 12, 2, 8)          264       \n",
      "_________________________________________________________________\n",
      "max_pooling2d_2 (MaxPooling2 (None, 11, 1, 8)          0         \n",
      "_________________________________________________________________\n",
      "batch_normalization_2 (Batch (None, 11, 1, 8)          32        \n",
      "_________________________________________________________________\n",
      "dropout_2 (Dropout)          (None, 11, 1, 8)          0         \n",
      "_________________________________________________________________\n",
      "flatten_1 (Flatten)          (None, 88)                0         \n",
      "_________________________________________________________________\n",
      "dense_1 (Dense)              (None, 4)                 356       \n",
      "_________________________________________________________________\n",
      "batch_normalization_3 (Batch (None, 4)                 16        \n",
      "_________________________________________________________________\n",
      "dropout_3 (Dropout)          (None, 4)                 0         \n",
      "_________________________________________________________________\n",
      "dense_2 (Dense)              (None, 3)                 15        \n",
      "=================================================================\n",
      "Total params: 755\n",
      "Trainable params: 715\n",
      "Non-trainable params: 40\n",
      "_________________________________________________________________\n"
     ]
    }
   ],
   "source": [
    "# Display model summary\n",
    "model.summary()"
   ]
  },
  {
   "cell_type": "markdown",
   "metadata": {},
   "source": [
    "# Visualize the weights of fully connected layer\n",
    "Figure belows shows the visualization of weights learned in fully connected layer. The weights learned are between -1 and\n",
    "1,   and   the   brighter   it   is,   the   larger   it   is.   Different   colors   represent   weights   learned   in   different   dimension.\n",
    "\n",
    "Since the input of our model is not images, it is generally difficult to interpret the weights learned. However, we can observe that the grids on the bottom half appear to be less ‘polar’ or less ‘extreme’, and the their brightness are generally close to middle level, indicating the weights learned are closer to zero. This is because the average number of reports of target company every month is around 3 ~ 4, but as mentioned in 6.1, we padded the sequences to length of 15 with zeros. This means that our model has successfully learnt that the padded zeros have no significant relationship with the output. On the other hand, we noticed that the visualized weights on the top half appear to be very bright or very dark, indicating weights with large magnitudes. This implies that our model has succeeded in learning   several   important   features   from   the   reports   of   each   month   that   could   be   correlated   with   the   output   labels."
   ]
  },
  {
   "cell_type": "code",
   "execution_count": 5,
   "metadata": {
    "collapsed": true
   },
   "outputs": [],
   "source": [
    "# Get weights for fully connected layer\n",
    "layer_dict = dict([(layer.name, layer) for layer in model.layers])\n",
    "weights = layer_dict['dense_1'].get_weights() # list of numpy arrays\n",
    "\n",
    "W, b = weights[0], weights[1]"
   ]
  },
  {
   "cell_type": "code",
   "execution_count": 6,
   "metadata": {},
   "outputs": [
    {
     "data": {
      "image/png": "[encoded data removed]",
      "text/plain": [
       "<matplotlib.figure.Figure at 0x119084080>"
      ]
     },
     "metadata": {},
     "output_type": "display_data"
    }
   ],
   "source": [
    "# Visualize the weights\n",
    "show_net_weights(W) "
   ]
  }
 ],
 "metadata": {
  "kernelspec": {
   "display_name": "Python [conda env:traders_nlp]",
   "language": "python",
   "name": "conda-env-traders_nlp-py"
  },
  "language_info": {
   "codemirror_mode": {
    "name": "ipython",
    "version": 3
   },
   "file_extension": ".py",
   "mimetype": "text/x-python",
   "name": "python",
   "nbconvert_exporter": "python",
   "pygments_lexer": "ipython3",
   "version": "3.5.4"
  }
 },
 "nbformat": 4,
 "nbformat_minor": 2
}
